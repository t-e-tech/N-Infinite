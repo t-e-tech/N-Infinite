{
 "cells": [
  {
   "cell_type": "markdown",
   "metadata": {},
   "source": [
    "# Data Analysis Test\n",
    "\n",
    "Use file `./ref/crop_data.csv` for input\n",
    "\n",
    "Use `pandas` lib\n",
    "\n",
    "Write your code and display readable result"
   ]
  },
  {
   "cell_type": "code",
   "execution_count": 1,
   "metadata": {},
   "outputs": [],
   "source": [
    "import pandas as pd"
   ]
  },
  {
   "cell_type": "code",
   "execution_count": 2,
   "metadata": {},
   "outputs": [
    {
     "name": "stdout",
     "output_type": "stream",
     "text": [
      "<class 'pandas.core.frame.DataFrame'>\n",
      "RangeIndex: 11914 entries, 0 to 11913\n",
      "Data columns (total 7 columns):\n",
      " #   Column            Non-Null Count  Dtype  \n",
      "---  ------            --------------  -----  \n",
      " 0   crop_year         11914 non-null  object \n",
      " 1   year              11914 non-null  int64  \n",
      " 2   product           11914 non-null  object \n",
      " 3   province          11914 non-null  object \n",
      " 4   area_plant_rai    11769 non-null  float64\n",
      " 5   area_harvest_rai  11728 non-null  float64\n",
      " 6   production_ton    11692 non-null  float64\n",
      "dtypes: float64(3), int64(1), object(3)\n",
      "memory usage: 651.7+ KB\n"
     ]
    }
   ],
   "source": [
    "# read csv file\n",
    "\n",
    "df = pd.read_csv(\"./ref/crop_data.csv\")\n",
    "df.info()"
   ]
  },
  {
   "cell_type": "markdown",
   "metadata": {},
   "source": [
    "### Example Question\n",
    "\n",
    "How many \"ยางพารา\" produced in whole country (\"ทั้งประเทศ\")\n"
   ]
  },
  {
   "cell_type": "code",
   "execution_count": 3,
   "metadata": {},
   "outputs": [
    {
     "data": {
      "text/plain": [
       "47686839.0"
      ]
     },
     "execution_count": 3,
     "metadata": {},
     "output_type": "execute_result"
    }
   ],
   "source": [
    "# How many \"ยางพารา\" produced in whole country (\"ทั้งประเทศ\")\n",
    "new_df = df.loc[\n",
    "    (df[\"product\"] == \"ยางพารา\" ) &\n",
    "    (df[\"province\"] == \"ทั้งประเทศ\") \n",
    "]\n",
    "sum(new_df[\"production_ton\"])\n"
   ]
  },
  {
   "cell_type": "code",
   "execution_count": null,
   "metadata": {},
   "outputs": [
    {
     "name": "stdout",
     "output_type": "stream",
     "text": [
      "      crop_year  year         product    province  area_plant_rai  \\\n",
      "0       2549/50  2550        ข้าวนาปี  ทั้งประเทศ      57541825.0   \n",
      "1       2550/51  2551        ข้าวนาปี  ทั้งประเทศ      57385921.0   \n",
      "2       2551/52  2552        ข้าวนาปี  ทั้งประเทศ      57422337.0   \n",
      "3       2552/53  2553        ข้าวนาปี  ทั้งประเทศ      57497441.0   \n",
      "4       2553/54  2554        ข้าวนาปี  ทั้งประเทศ      64574071.0   \n",
      "...         ...   ...             ...         ...             ...   \n",
      "11909      2558  2558  ข้าวโพดฝักอ่อน    นราธิวาส           349.0   \n",
      "11910      2559  2559  ข้าวโพดฝักอ่อน    นราธิวาส           506.0   \n",
      "11911      2560  2560  ข้าวโพดฝักอ่อน    นราธิวาส           441.0   \n",
      "11912      2561  2561  ข้าวโพดฝักอ่อน    นราธิวาส           534.0   \n",
      "11913      2562  2562  ข้าวโพดฝักอ่อน    นราธิวาส           472.0   \n",
      "\n",
      "       area_harvest_rai  production_ton  \n",
      "0            53500163.0      23108401.0  \n",
      "1            53892143.0      23582596.0  \n",
      "2            54385144.0      23508833.0  \n",
      "3            54739638.0      23430770.0  \n",
      "4            59690203.0      25742917.0  \n",
      "...                 ...             ...  \n",
      "11909             331.0           359.0  \n",
      "11910             475.0           503.0  \n",
      "11911             403.0           368.0  \n",
      "11912             507.0           484.0  \n",
      "11913             448.0           416.0  \n",
      "\n",
      "[11914 rows x 7 columns]\n"
     ]
    }
   ],
   "source": [
    "# Data Explore\n",
    "print(df)"
   ]
  },
  {
   "cell_type": "markdown",
   "metadata": {},
   "source": [
    "### Question 1\n",
    "\n",
    "How many \"ข้าวนาปี\" produced in \"ยะลา\" between year 2550 - 2553\n"
   ]
  },
  {
   "cell_type": "code",
   "execution_count": 7,
   "metadata": {},
   "outputs": [
    {
     "name": "stdout",
     "output_type": "stream",
     "text": [
      "Count of records: 4\n"
     ]
    }
   ],
   "source": [
    "# Write you code and display question 1 result here.\n",
    "\n",
    "# Filter the DataFrame based on the conditions\n",
    "filtered_df = df[\n",
    "    (df['product'] == 'ข้าวนาปี') & \n",
    "    (df['province'] == 'ยะลา') & \n",
    "    (df['year'].between(2550, 2553))\n",
    "]\n",
    "\n",
    "# Count the number of records\n",
    "count_records = filtered_df.shape[0]\n",
    "\n",
    "print(f\"Count of records: {count_records}\")"
   ]
  },
  {
   "cell_type": "markdown",
   "metadata": {},
   "source": [
    "### Question 2\n",
    "\n",
    "Calculate harvest rate of \"ข้าวนาปี\" in whole country\n",
    "\n",
    "_harvest rate = area_harvest_rai / area_plant_rai_"
   ]
  },
  {
   "cell_type": "code",
   "execution_count": 10,
   "metadata": {},
   "outputs": [
    {
     "name": "stdout",
     "output_type": "stream",
     "text": [
      "area_harvest_rai 730340255.0\n",
      "area_plant_rai 783456906.0\n",
      "harvest_rate 0.9322022046225986\n"
     ]
    }
   ],
   "source": [
    "# Write you code and display question 2 result here.\n",
    "# replace with your code\n",
    "\n",
    "filtered_df = df[\n",
    "    (df['product'] == 'ข้าวนาปี') &\n",
    "    (df['province'] == 'ทั้งประเทศ')\n",
    "]\n",
    "\n",
    "area_harvest_rai = filtered_df['area_harvest_rai'].sum()   \n",
    "area_plant_rai = filtered_df['area_plant_rai'].sum()\n",
    "harvest_rate = area_harvest_rai / area_plant_rai\n",
    "\n",
    "print('area_harvest_rai', area_harvest_rai)\n",
    "print('area_plant_rai', area_plant_rai)\n",
    "print('harvest_rate', harvest_rate)"
   ]
  },
  {
   "cell_type": "markdown",
   "metadata": {},
   "source": [
    "### Question 3\n",
    "\n",
    "Calculate total profit of \"ข้าวโพดฝักอ่อน\" produced in \"ภาคเหนือ\" from year 2555 to 2562\n",
    "- profit rate in year 2555 - year 2559 is 50% (selling price is 50THB/kg.)\n",
    "- profit rate in year 2560 - year 2562 is 30% (selling price is 120THB/kg.)\n",
    "- assume all product was sold out every year."
   ]
  },
  {
   "cell_type": "code",
   "execution_count": 16,
   "metadata": {},
   "outputs": [
    {
     "name": "stdout",
     "output_type": "stream",
     "text": [
      "Total Profit: 5076935000.0 THB\n"
     ]
    }
   ],
   "source": [
    "# Write you code and display question 3 result here.\n",
    "\n",
    "# Filter rows for the specified product and region\n",
    "filtered_df = df[\n",
    "    (df['product'] == 'ข้าวโพดฝักอ่อน') &\n",
    "    (df['province'] == 'ภาคเหนือ') &\n",
    "    (df['year'].between(2555, 2562))\n",
    "]\n",
    "\n",
    "\n",
    "# Calculate profit for years 2555-2559\n",
    "df_2555_2559 = filtered_df[filtered_df['year'].between(2555, 2559)]\n",
    "profit_2555_2559 = (df_2555_2559['production_ton'] * 1000) * 50 * 0.5\n",
    "#print(f\"Profit for 2555-2559: {profit_2555_2559.sum()} THB\")\n",
    "\n",
    "# Calculate profit for years 2560-2562\n",
    "df_2560_2562 = filtered_df[filtered_df['year'].between(2560, 2562)]\n",
    "profit_2560_2562 = (df_2560_2562['production_ton'] * 1000) * 120 * 0.3\n",
    "#print(f\"Profit for 2560-2562: {profit_2560_2562.sum()} THB\")\n",
    "\n",
    "# Calculate total profit\n",
    "total_profit = profit_2555_2559.sum() + profit_2560_2562.sum()\n",
    "print(f\"Total Profit: {total_profit} THB\")"
   ]
  },
  {
   "cell_type": "markdown",
   "metadata": {},
   "source": [
    "### Question 4\n",
    "\n",
    "Form question 3, display the dataframe with 'year', 'production_ton', 'income', 'profit_thb' column\n"
   ]
  },
  {
   "cell_type": "code",
   "execution_count": 17,
   "metadata": {},
   "outputs": [
    {
     "name": "stdout",
     "output_type": "stream",
     "text": [
      "       year  production_ton        income   profit_thb\n",
      "11690  2555         24741.0  1.237050e+09  618525000.0\n",
      "11691  2556         25371.0  1.268550e+09  634275000.0\n",
      "11692  2557         21788.0  1.089400e+09  544700000.0\n",
      "11693  2558         20499.0  1.024950e+09  512475000.0\n",
      "11694  2559         19332.0  9.666000e+08  483300000.0\n",
      "11695  2560         21329.0  2.559480e+09  767844000.0\n",
      "11696  2561         21757.0  2.610840e+09  783252000.0\n",
      "11697  2562         20349.0  2.441880e+09  732564000.0\n"
     ]
    },
    {
     "name": "stderr",
     "output_type": "stream",
     "text": [
      "C:\\Users\\pammy\\AppData\\Local\\Temp\\ipykernel_23988\\3721350822.py:11: SettingWithCopyWarning: \n",
      "A value is trying to be set on a copy of a slice from a DataFrame.\n",
      "Try using .loc[row_indexer,col_indexer] = value instead\n",
      "\n",
      "See the caveats in the documentation: https://pandas.pydata.org/pandas-docs/stable/user_guide/indexing.html#returning-a-view-versus-a-copy\n",
      "  filtered_df['income'] = filtered_df.apply(\n",
      "C:\\Users\\pammy\\AppData\\Local\\Temp\\ipykernel_23988\\3721350822.py:15: SettingWithCopyWarning: \n",
      "A value is trying to be set on a copy of a slice from a DataFrame.\n",
      "Try using .loc[row_indexer,col_indexer] = value instead\n",
      "\n",
      "See the caveats in the documentation: https://pandas.pydata.org/pandas-docs/stable/user_guide/indexing.html#returning-a-view-versus-a-copy\n",
      "  filtered_df['profit_thb'] = filtered_df.apply(\n"
     ]
    }
   ],
   "source": [
    "# Write you code and display question 4 result here.\n",
    "\n",
    "# Filter rows for the specified product and region\n",
    "filtered_df = df[\n",
    "    (df['product'] == 'ข้าวโพดฝักอ่อน') &\n",
    "    (df['province'] == 'ภาคเหนือ') &\n",
    "    (df['year'].between(2555, 2562))\n",
    "]\n",
    "\n",
    "# Define profit rates and selling prices for different year ranges\n",
    "filtered_df['income'] = filtered_df.apply(\n",
    "    lambda row: (row['production_ton'] * 1000) * \n",
    "                (50 if row['year'] <= 2559 else 120), axis=1\n",
    ")\n",
    "filtered_df['profit_thb'] = filtered_df.apply(\n",
    "    lambda row: row['income'] * (0.5 if row['year'] <= 2559 else 0.3), axis=1\n",
    ")\n",
    "\n",
    "# Display the DataFrame with the required columns\n",
    "result_df = filtered_df[['year', 'production_ton', 'income', 'profit_thb']]\n",
    "print(result_df)"
   ]
  },
  {
   "cell_type": "markdown",
   "metadata": {},
   "source": [
    "### Question 5\n",
    "\n",
    "We plan to invest in growing soybeans (ถั่วเหลือง) which province should we invest.\n",
    "\n",
    "We looking for\n",
    "- high protential area (high havest_rate)\n",
    "- we want market share only 20% but production_ton should be more than 2000 in the past (2550 - 2562)\n",
    "\n"
   ]
  },
  {
   "cell_type": "code",
   "execution_count": 21,
   "metadata": {},
   "outputs": [
    {
     "name": "stdout",
     "output_type": "stream",
     "text": [
      "                      province  total_production_ton  avg_harvest_rate\n",
      "ranking                                                               \n",
      "1                         แพร่            124649.000         99.411723\n",
      "2                   แม่ฮ่องสอน            216298.000         99.150895\n",
      "3                   ฉะเชิงเทรา              8038.000         99.007171\n",
      "4                        ลำพูน              3471.967         98.941240\n",
      "5                     เชียงราย             68852.000         98.814047\n",
      "6                    เพชรบูรณ์              8959.000         98.493804\n",
      "7                    เชียงใหม่            180564.000         98.471452\n",
      "8                      ภาคกลาง             49931.948         98.314104\n",
      "9                         น่าน             61758.000         98.175079\n",
      "10                         ตาก             71097.000         98.137804\n",
      "11                    จันทบุรี              3953.000         98.072065\n",
      "12                   นครสวรรค์              2021.000         97.902366\n",
      "13                     สระแก้ว             31318.000         97.897386\n",
      "14                       ลำปาง             48759.000         97.844170\n",
      "15                   อุตรดิตถ์             54576.000         97.830100\n",
      "16                     ชัยภูมิ             89826.000         97.756402\n",
      "17                   กาญจนบุรี              3588.948         97.682307\n",
      "18                    ภาคเหนือ            993860.959         97.637516\n",
      "19                 หนองบัวลำภู             32071.000         97.626957\n",
      "20                     ขอนแก่น             93938.000         97.568771\n",
      "21                  ทั้งประเทศ           1379149.907         97.457305\n",
      "22       ภาคตะวันออกเฉียงเหนือ            335357.000         96.953707\n",
      "23                         เลย            103766.000         96.748393\n",
      "24                     สุโขทัย             76066.000         96.183171\n",
      "25                       พะเยา              3383.992         95.554888\n",
      "26                   กาฬสินธุ์              3555.000         95.124384\n",
      "27                    อุดรธานี             10469.000         94.556799\n",
      "28                    พิษณุโลก             33654.000         93.587913\n",
      "29                  ปราจีนบุรี              2889.000         92.786262\n",
      "30                   กำแพงเพชร             35843.000         90.869422\n",
      "31                      พิจิตร              2494.000         85.553553\n"
     ]
    },
    {
     "name": "stderr",
     "output_type": "stream",
     "text": [
      "C:\\Users\\pammy\\AppData\\Local\\Temp\\ipykernel_23988\\3359306738.py:10: SettingWithCopyWarning: \n",
      "A value is trying to be set on a copy of a slice from a DataFrame.\n",
      "Try using .loc[row_indexer,col_indexer] = value instead\n",
      "\n",
      "See the caveats in the documentation: https://pandas.pydata.org/pandas-docs/stable/user_guide/indexing.html#returning-a-view-versus-a-copy\n",
      "  soybean_df['harvest_rate'] = (soybean_df['area_harvest_rai'] / soybean_df['area_plant_rai']) * 100\n"
     ]
    }
   ],
   "source": [
    "\n",
    "# Write you code and display question 5 result here.\n",
    "\n",
    "# Filter data for soybean and years 2550-2562\n",
    "soybean_df = df[\n",
    "    (df['product'] == 'ถั่วเหลือง') &\n",
    "    (df['year'].between(2550, 2562))\n",
    "]\n",
    "\n",
    "# Calculate harvest rate for each record\n",
    "soybean_df['harvest_rate'] = (soybean_df['area_harvest_rai'] / soybean_df['area_plant_rai']) * 100\n",
    "\n",
    "# Aggregate data by province\n",
    "province_summary = soybean_df.groupby('province').agg(\n",
    "    total_production_ton=('production_ton', 'sum'),\n",
    "    avg_harvest_rate=('harvest_rate', 'mean')\n",
    ").reset_index()\n",
    "\n",
    "# Filter provinces based on the criteria\n",
    "filtered_provinces = province_summary[\n",
    "    (province_summary['total_production_ton'] > 2000) &\n",
    "    (province_summary['total_production_ton'] > 10_000 * 0.2)\n",
    "]\n",
    "\n",
    "# Sort by average harvest rate in descending order\n",
    "filtered_provinces = filtered_provinces.sort_values(by='avg_harvest_rate', ascending=False).reset_index(drop=True)\n",
    "\n",
    "# Add an index column starting from 1\n",
    "filtered_provinces.index = filtered_provinces.index + 1\n",
    "filtered_provinces.index.name = 'ranking'\n",
    "\n",
    "# Display the result\n",
    "print(filtered_provinces)\n"
   ]
  }
 ],
 "metadata": {
  "kernelspec": {
   "display_name": "Python 3",
   "language": "python",
   "name": "python3"
  },
  "language_info": {
   "codemirror_mode": {
    "name": "ipython",
    "version": 3
   },
   "file_extension": ".py",
   "mimetype": "text/x-python",
   "name": "python",
   "nbconvert_exporter": "python",
   "pygments_lexer": "ipython3",
   "version": "3.9.13"
  }
 },
 "nbformat": 4,
 "nbformat_minor": 2
}
